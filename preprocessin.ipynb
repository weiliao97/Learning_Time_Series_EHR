{
 "cells": [
  {
   "attachments": {},
   "cell_type": "markdown",
   "metadata": {},
   "source": [
    "# MIMIC data"
   ]
  },
  {
   "attachments": {},
   "cell_type": "markdown",
   "metadata": {},
   "source": [
    "## Get MIMIC_compile, which consists of both vital and inv data "
   ]
  },
  {
   "cell_type": "code",
   "execution_count": 2,
   "metadata": {},
   "outputs": [
    {
     "name": "stdout",
     "output_type": "stream",
     "text": [
      "/content/drive/My Drive/ColabNotebooks/MIMIC/Extract/MEEP/Extracted_Feb_2023\n"
     ]
    }
   ],
   "source": [
    "%cd /content/drive/My Drive/ColabNotebooks/MIMIC/Extract/MEEP/Extracted_Feb_2023"
   ]
  },
  {
   "cell_type": "code",
   "execution_count": 3,
   "metadata": {},
   "outputs": [
    {
     "name": "stderr",
     "output_type": "stream",
     "text": [
      "<ipython-input-3-e7e49223ea28>:3: FutureWarning: In a future version, the Index constructor will not infer numeric dtypes when passed object-dtype sequences (matching Series behavior)\n",
      "  vital_train = pd.read_hdf('./MIMIC_split_2.hdf5', key='vital_train')\n",
      "<ipython-input-3-e7e49223ea28>:3: FutureWarning: In a future version, the Index constructor will not infer numeric dtypes when passed object-dtype sequences (matching Series behavior)\n",
      "  vital_train = pd.read_hdf('./MIMIC_split_2.hdf5', key='vital_train')\n",
      "<ipython-input-3-e7e49223ea28>:4: FutureWarning: In a future version, the Index constructor will not infer numeric dtypes when passed object-dtype sequences (matching Series behavior)\n",
      "  vital_dev = pd.read_hdf('./MIMIC_split_2.hdf5', key='vital_dev')\n",
      "<ipython-input-3-e7e49223ea28>:4: FutureWarning: In a future version, the Index constructor will not infer numeric dtypes when passed object-dtype sequences (matching Series behavior)\n",
      "  vital_dev = pd.read_hdf('./MIMIC_split_2.hdf5', key='vital_dev')\n",
      "<ipython-input-3-e7e49223ea28>:5: FutureWarning: In a future version, the Index constructor will not infer numeric dtypes when passed object-dtype sequences (matching Series behavior)\n",
      "  vital_test = pd.read_hdf('./MIMIC_split_2.hdf5', key='vital_test')\n",
      "<ipython-input-3-e7e49223ea28>:5: FutureWarning: In a future version, the Index constructor will not infer numeric dtypes when passed object-dtype sequences (matching Series behavior)\n",
      "  vital_test = pd.read_hdf('./MIMIC_split_2.hdf5', key='vital_test')\n"
     ]
    }
   ],
   "source": [
    "# MIMIC data compile Feb 2022 with time window \n",
    "import pandas as pd\n",
    "vital_train = pd.read_hdf('./MIMIC_split_2.hdf5', key='vital_train')\n",
    "vital_dev = pd.read_hdf('./MIMIC_split_2.hdf5', key='vital_dev')\n",
    "vital_test = pd.read_hdf('./MIMIC_split_2.hdf5', key='vital_test')\n",
    "\n",
    "inv_train = pd.read_hdf('./MIMIC_split_2.hdf5', key='inv_train')\n",
    "inv_dev = pd.read_hdf('./MIMIC_split_2.hdf5', key='inv_dev')\n",
    "inv_test = pd.read_hdf('./MIMIC_split_2.hdf5', key='inv_test')\n",
    "\n",
    "static_train = pd.read_hdf('./MIMIC_split_2.hdf5', key='static_train')\n",
    "static_dev = pd.read_hdf('./MIMIC_split_2.hdf5', key='static_dev')\n",
    "static_test = pd.read_hdf('./MIMIC_split_2.hdf5', key='static_test')"
   ]
  },
  {
   "cell_type": "code",
   "execution_count": 4,
   "metadata": {},
   "outputs": [],
   "source": [
    "ID_COLS = ['subject_id', 'hadm_id', 'stay_id']\n",
    "vital_train = vital_train.join(inv_train, on=ID_COLS + ['hours_in'])\n",
    "vital_dev = vital_dev.join(inv_dev, on=ID_COLS + ['hours_in'])\n",
    "vital_test = vital_test.join(inv_test, on=ID_COLS + ['hours_in'])\n",
    "# sort values \n",
    "def sort_df(df, sortbylevel=2):\n",
    "    df.sort_index(axis=0, level=sortbylevel, inplace=True)\n",
    "df_list = [vital_train , vital_dev, vital_test, static_train, static_dev, static_test]\n",
    "for df in df_list:\n",
    "    sort_df(df)\n",
    "\n",
    "# list of arrays here for vitals and sofa \n",
    "idx = pd.IndexSlice\n",
    "def get_ind_array(df):\n",
    "    df_array = [df.loc[idx[:,:,m,:], :].values for i, m in enumerate(sorted(set(df.index.get_level_values(2))))]\n",
    "    return df_array\n",
    "[vtrain, vdev, vtest] = [get_ind_array(df) for df in [vital_train, vital_dev, vital_test]]\n",
    "\n",
    "## take out tail and head for model prediction \n",
    "def take_vital_head(df):\n",
    "    vital_list = [df[i].transpose(1, 0).astype(float) for i in range(len(df))]\n",
    "    return vital_list\n",
    "\n",
    "# def take_sofa_tail(df):\n",
    "#     sofa_list = [df[i][24:, :] for i in range(len(df))]\n",
    "#     return sofa_list\n",
    "\n",
    "# def take_sofa_head(df):\n",
    "#     sofa_list = [df[i][:-24, :] for i in range(len(df))]\n",
    "#     return sofa_list\n",
    "\n",
    "def take_complete(df):\n",
    "    complete_list = [df.loc[idx[:,:,m,:], ['hospital_expire_flag', 'mort_icu', 'max_hours']].values.squeeze() for i, m in enumerate(sorted(set(df.index.get_level_values(2))))]\n",
    "    return complete_list \n",
    "\n",
    "[vhead_train, vhead_dev, vhead_test] =  [take_vital_head(df) for df in [vtrain, vdev, vtest]]\n",
    "[st_train, st_dev, st_test] =  [take_complete(df) for df in [static_train, static_dev, static_test]]"
   ]
  },
  {
   "cell_type": "code",
   "execution_count": null,
   "metadata": {},
   "outputs": [],
   "source": [
    "import numpy as np \n",
    "MIMIC_compile_0218_2023_2= {'train_head': vhead_train, 'static_train_filter': st_train, \\\n",
    "                        #  'train_sofa_tail': stail_train, 'train_sofa_head': shead_train,\\\n",
    "                         'dev_head': vhead_dev, 'static_dev_filter': st_dev, \\\n",
    "                        #  'dev_sofa_tail': stail_dev, 'dev_sofa_head': shead_dev, \\\n",
    "                         'test_head': vhead_test, 'static_test_filter': st_test, \\\n",
    "                        #  'test_sofa_tail': stail_test, 'test_sofa_head': shead_test, \\\n",
    "                         }\n",
    "np.save('/content/drive/MyDrive/ColabNotebooks/MIMIC/Extract/MEEP/Extracted_Feb_2023/MIMIC_compile_0218_2023_2.npy', MIMIC_compile_0218_2023_2, allow_pickle=True) "
   ]
  },
  {
   "attachments": {},
   "cell_type": "markdown",
   "metadata": {},
   "source": [
    "## Keep relavant static data for fusion and target (SOFA score) for prediction"
   ]
  },
  {
   "cell_type": "code",
   "execution_count": null,
   "metadata": {},
   "outputs": [],
   "source": [
    "# process static data\n",
    "scol_keep = ['gender', 'age', 'ethnicity', 'hospital_expire_flag', 'max_hours', 'myocardial_infarct', 'congestive_heart_failure', 'peripheral_vascular_disease',\n",
    " 'cerebrovascular_disease', 'dementia', 'chronic_pulmonary_disease', 'rheumatic_disease', 'peptic_ulcer_disease', 'mild_liver_disease', 'diabetes_without_cc', 'diabetes_with_cc',\n",
    " 'paraplegia', 'renal_disease', 'malignant_cancer', 'severe_liver_disease', 'metastatic_solid_tumor', 'aids']\n",
    "def categorize_ethnicity(ethnicity):\n",
    "    if 'AMERICAN INDIAN' in ethnicity:\n",
    "        ethnicity = 'AMERICAN INDIAN'\n",
    "    elif 'ASIAN' in ethnicity:\n",
    "        ethnicity = 'ASIAN'\n",
    "    elif 'WHITE' in ethnicity:\n",
    "        ethnicity = 'WHITE'\n",
    "    elif 'HISPANIC' in ethnicity:\n",
    "        ethnicity = 'HISPANIC/LATINO'\n",
    "    elif 'BLACK' in ethnicity:\n",
    "        ethnicity = 'BLACK'\n",
    "    else: \n",
    "        ethnicity = 'OTHER'\n",
    "    return ethnicity\n",
    "\n",
    "static.loc[:, 'ethnicity'] = static['ethnicity'].apply(categorize_ethnicity)\n",
    "g_map = {'F': 0, 'M': 1}\n",
    "static.loc[:, 'gender'] = static.loc[:, 'gender'].map(g_map)\n",
    "ind_1 = static.columns.get_loc('age')\n",
    "age_mean = static.iloc[:,ind_1].mean()\n",
    "age_stds = static.iloc[:,ind_1].std()\n",
    "static.iloc[:,ind_1] =  (static.iloc[:,ind_1] - age_mean)/ (age_stds)\n",
    "static_cat = pd.get_dummies(static, columns = ['ethnicity'])\n",
    "static = static.loc[: , scol_keep]\n"
   ]
  },
  {
   "attachments": {},
   "cell_type": "markdown",
   "metadata": {},
   "source": [
    "## Get MIMIC_target, which contains SOFA score data for prediction"
   ]
  },
  {
   "cell_type": "code",
   "execution_count": null,
   "metadata": {},
   "outputs": [],
   "source": []
  }
 ],
 "metadata": {
  "kernelspec": {
   "display_name": "Python 3",
   "language": "python",
   "name": "python3"
  },
  "language_info": {
   "codemirror_mode": {
    "name": "ipython",
    "version": 3
   },
   "file_extension": ".py",
   "mimetype": "text/x-python",
   "name": "python",
   "nbconvert_exporter": "python",
   "pygments_lexer": "ipython3",
   "version": "3.10.12"
  },
  "orig_nbformat": 4
 },
 "nbformat": 4,
 "nbformat_minor": 2
}
